{
 "cells": [
  {
   "cell_type": "code",
   "execution_count": null,
   "id": "40092869-f807-4e64-b8c2-fc3bdba2e176",
   "metadata": {},
   "outputs": [],
   "source": [
    "import time\n",
    "from selenium import webdriver\n",
    "from selenium.webdriver.chrome.service import Service\n",
    "from webdriver_manager.chrome import ChromeDriverManager\n",
    "from selenium.webdriver.support.ui import WebDriverWait\n",
    "from selenium.webdriver.support import expected_conditions as EC\n",
    "from selenium.webdriver.common.by import By\n",
    "from bs4 import BeautifulSoup\n",
    "import csv\n",
    "from tqdm import tqdm\n"
   ]
  },
  {
   "cell_type": "code",
   "execution_count": null,
   "id": "ae1024b7-1e39-488c-9853-eea7c799d0d7",
   "metadata": {},
   "outputs": [],
   "source": [
    "# 웹드라이버 설정\n",
    "driver = webdriver.Chrome(service=Service(ChromeDriverManager().install()))\n",
    "\n",
    "# 디버거 모드로 설정\n",
    "driver = webdriver.Chrome(service=Service(ChromeDriverManager().install()),\n",
    "                          options=webdriver.ChromeOptions().add_experimental_option(\"debuggerAddress\",\"localhost:9222\"))\n",
    "\n",
    "site_url = 'url'\n",
    "driver.get(site_url)\n",
    "\n",
    "hrefs = set()\n",
    "\n",
    "while True:\n",
    "    # 현재 페이지의 HTML을 가져옴\n",
    "    soup = BeautifulSoup(driver.page_source, 'html.parser')\n",
    "\n",
    "    # 'div.info_box' 내의 'a' 태그를 찾아서 href 속성 저장\n",
    "    a_tags = soup.select('div.info_box a')\n",
    "    urls = [a['href'] for a in a_tags if 'href' in a.attrs]\n",
    "    new_hrefs = set(urls) - hrefs  # 이전에 가져온 href 정보와 중복된 것을 제외함\n",
    "    hrefs.update(new_hrefs)  # 새로운 href 정보를 추가\n",
    "\n",
    "    # 다음 페이지로 넘어감\n",
    "    try:\n",
    "        next_button = WebDriverWait(driver, 10).until(EC.presence_of_element_located((By.XPATH, '//a[@class=\"pg_next on\"]')))\n",
    "        driver.execute_script(\"arguments[0].click();\", next_button)\n",
    "        time.sleep(0.1)\n",
    "    except:\n",
    "        break"
   ]
  },
  {
   "cell_type": "code",
   "execution_count": null,
   "id": "d5addef1-c7ac-4544-bd8c-ef88c598e01a",
   "metadata": {},
   "outputs": [],
   "source": [
    "base_url = 'https://search.naver.com/search.naver?'\n",
    "\n",
    "def parse_car_name_kind(html):\n",
    "    # 이름, 차종, 연식 갖고오기\n",
    "    soup = BeautifulSoup(html, 'html.parser')\n",
    "    car_name = soup.select('span.area_text_title ._text')[0].text.strip()\n",
    "    car_kind = soup.select('div.sub_title .txt')[0].text.strip()\n",
    "    car_year = soup.select('div.sub_title .txt')[1].text.strip()\n",
    "    return  car_name, car_kind, car_year\n",
    "\n",
    "def pares_basic_info(html):\n",
    "    # dt, dd 정보 가져오기\n",
    "    soup = BeautifulSoup(html, 'lxml')\n",
    "    info_groups = soup.select('dl.info .info_group')\n",
    "\n",
    "    # dt, dd 정보 출력\n",
    "    basic_info = []\n",
    "    for info_group in info_groups:\n",
    "        dt = info_group.select_one('dt').text.strip()\n",
    "        dd = info_group.select_one('dd').text.strip()\n",
    "        basic_info.append(dd)\n",
    "    return basic_info\n",
    "\n",
    "\n"
   ]
  },
  {
   "cell_type": "code",
   "execution_count": null,
   "id": "196abad9-e6c5-4440-a6c7-5bfe1c3f81a7",
   "metadata": {},
   "outputs": [],
   "source": [
    "with open(\"./car.csv\", \"w\", newline=\"\", encoding=\"utf-8-sig\") as fw:\n",
    "    writer = csv.writer(fw)\n",
    "    headers = [\"name\", \"kind\", \"year\", \"price\", \"fuel_kind\", \"km/l\", \"car_output\", \"torque\", \"cc\",\n",
    "               \"engine\", \"driving_system\", \"gear\", \"full_length\", \"full_height\", \"full_width\", \"range\"]\n",
    "    writer.writerow(headers)\n",
    "\n",
    "    for href in tqdm(hrefs):\n",
    "        full_url = base_url + href\n",
    "        driver.get(full_url)\n",
    "        car_name, car_kind, car_year = parse_car_name_kind(driver.page_source)\n",
    "        \n",
    "        # '기본정보' 탭 클릭\n",
    "        basic_info_link = WebDriverWait(driver, 10).until(EC.presence_of_element_located((By.CSS_SELECTOR, 'a.more_link')))\n",
    "        driver.execute_script(\"arguments[0].click();\", basic_info_link)\n",
    "        basic_info = pares_basic_info(driver.page_source)\n",
    "\n",
    "        car_info = [car_name, car_kind, car_year] + basic_info\n",
    "        writer.writerow(car_info)\n"
   ]
  }
 ],
 "metadata": {
  "kernelspec": {
   "display_name": "Python 3 (ipykernel)",
   "language": "python",
   "name": "python3"
  },
  "language_info": {
   "codemirror_mode": {
    "name": "ipython",
    "version": 3
   },
   "file_extension": ".py",
   "mimetype": "text/x-python",
   "name": "python",
   "nbconvert_exporter": "python",
   "pygments_lexer": "ipython3",
   "version": "3.11.3"
  }
 },
 "nbformat": 4,
 "nbformat_minor": 5
}
