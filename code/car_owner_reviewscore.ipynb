{
 "cells": [
  {
   "cell_type": "code",
   "execution_count": null,
   "id": "7ff4c49b-ed4e-456c-98fc-3704ddcab084",
   "metadata": {},
   "outputs": [],
   "source": [
    "import time\n",
    "from selenium import webdriver\n",
    "from selenium.webdriver.chrome.service import Service\n",
    "from webdriver_manager.chrome import ChromeDriverManager\n",
    "from selenium.webdriver.support.ui import WebDriverWait\n",
    "from selenium.webdriver.support import expected_conditions as EC\n",
    "from selenium.webdriver.common.by import By\n",
    "from bs4 import BeautifulSoup\n",
    "import csv\n",
    "from tqdm import tqdm\n",
    "import re\n",
    "\n",
    "\n",
    "# 웹드라이버 설정\n",
    "driver = webdriver.Chrome(service=Service(ChromeDriverManager().install()))\n",
    "\n",
    "# 디버거 모드로 설정\n",
    "driver = webdriver.Chrome(service=Service(ChromeDriverManager().install()),\n",
    "                          options=webdriver.ChromeOptions().add_experimental_option(\"debuggerAddress\",\"localhost:9222\"))\n",
    "\n",
    "pattern = r'<li>([^<]+)<span class=\"num _num\">([\\d.]+)</span></li>'\n",
    "\n",
    "with open(\"./data/owner_score.csv\", \"w\", newline=\"\", encoding=\"utf-8-sig\") as fw:\n",
    "    writer = csv.writer(fw)\n",
    "    headers = [\"name\", \"driving\", \"price\", \"habitability\", \"quality\", \"design\", \"fuel_economy\"]\n",
    "    writer.writerow(headers)\n",
    "\n",
    "    for href in tqdm(hrefs):\n",
    "        full_url = base_url + href\n",
    "        driver.get(full_url)\n",
    "        car_name= parse_car_name_kind(driver.page_source)\n",
    "        \n",
    "        try:\n",
    "            full_url_owner = full_url +\"+오너평가\"\n",
    "            driver.get(full_url_owner)\n",
    "            owner_score = pares_owner_score(driver.page_source)\n",
    "            time.sleep(0.1)  # 클릭 후 페이지 로딩을 기다리기 위한 대기 시간\n",
    "        except:\n",
    "            continue\n",
    "\n",
    "\n",
    "        car_info = [car_name] + owner_score\n",
    "        writer.writerow(car_info)\n",
    "\n"
   ]
  },
  {
   "cell_type": "code",
   "execution_count": null,
   "id": "a485a7f9-05aa-4b67-b86e-185c9d879bfb",
   "metadata": {},
   "outputs": [],
   "source": [
    "import pandas as pd\n",
    "df = pd.read_csv(\"./owner_score.csv\")\n",
    "df = df[df[\"name\"].str.contains(\"현대|기아|쉐보레|르노|KG|제네시스\")]"
   ]
  },
  {
   "cell_type": "code",
   "execution_count": null,
   "id": "ac1ba00d-930e-4224-b9a1-b0a38c371d6d",
   "metadata": {},
   "outputs": [],
   "source": [
    "df = pd.read_csv(\"./data/owner_score_preprocessing.csv\")"
   ]
  }
 ],
 "metadata": {
  "kernelspec": {
   "display_name": "Python 3 (ipykernel)",
   "language": "python",
   "name": "python3"
  },
  "language_info": {
   "codemirror_mode": {
    "name": "ipython",
    "version": 3
   },
   "file_extension": ".py",
   "mimetype": "text/x-python",
   "name": "python",
   "nbconvert_exporter": "python",
   "pygments_lexer": "ipython3",
   "version": "3.11.3"
  }
 },
 "nbformat": 4,
 "nbformat_minor": 5
}
